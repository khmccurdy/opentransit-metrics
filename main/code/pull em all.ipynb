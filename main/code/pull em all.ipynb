{
 "cells": [
  {
   "cell_type": "code",
   "execution_count": 1,
   "metadata": {},
   "outputs": [],
   "source": [
    "import requests\n",
    "import numpy as np\n",
    "import json\n",
    "import math\n",
    "from datetime import datetime\n",
    "import time\n",
    "import os"
   ]
  },
  {
   "cell_type": "code",
   "execution_count": 2,
   "metadata": {},
   "outputs": [],
   "source": [
    "def list_string(arr):\n",
    "    return f\"{[*map(str,arr)]}\".replace(\"'\",'\"')"
   ]
  },
  {
   "cell_type": "code",
   "execution_count": 3,
   "metadata": {},
   "outputs": [],
   "source": [
    "def get_some_times(route, dt_params=(2018,10,15,0,1,0), hours=20, per_hour=1):\n",
    "    route_data=[]\n",
    "    if type(route) != list:\n",
    "        route = [route]\n",
    "        \n",
    "    per_hour=int(per_hour)\n",
    "    timestamp=int(datetime(*dt_params).timestamp())*1000\n",
    "    T0 = time.time()\n",
    "    for i in range(hours*per_hour):\n",
    "        t0=time.time()\n",
    "        start_time = timestamp + i*36e5/per_hour\n",
    "        end_time   = start_time + 36e5/per_hour\n",
    "\n",
    "        query = f\"\"\"{{\n",
    "          trynState(agency: \"muni\", startTime: \"{start_time}\", endTime: \"{end_time}\", routes: {list_string(route)}) {{\n",
    "            agency\n",
    "            startTime\n",
    "            routes {{\n",
    "              rid\n",
    "              stops {{\n",
    "                sid\n",
    "                name\n",
    "                lat\n",
    "                lon\n",
    "              }}\n",
    "              routeStates {{\n",
    "                vtime\n",
    "                vehicles {{\n",
    "                  vid\n",
    "                  lat\n",
    "                  lon\n",
    "                  heading\n",
    "                  did\n",
    "                }}\n",
    "              }}\n",
    "            }}\n",
    "          }}\n",
    "        }}\n",
    "        \"\"\" # Braces need to be doubled for f-string\n",
    "\n",
    "        query_url = \"https://06o8rkohub.execute-api.us-west-2.amazonaws.com/dev/graphql?query=\"+query\n",
    "#         print(query_url)\n",
    "        print('Getting data...',i)\n",
    "        r = requests.get(query_url)\n",
    "        print(f'That took {round(time.time()-t0,2)} seconds.')\n",
    "\n",
    "        data = json.loads(r.text)\n",
    "        try:\n",
    "            data['data']\n",
    "            \n",
    "            if len(data['data']['trynState']['routes']):\n",
    "                route_data.extend(data['data']['trynState']['routes'])\n",
    "        except KeyError:\n",
    "            print(f\"Error for time range {startTime}-{endTime}.\")\n",
    "    \n",
    "    r_sort = {}\n",
    "    print('Final formatting...')\n",
    "    for x in route_data:\n",
    "        if x['rid'] not in r_sort.keys():\n",
    "            r_sort[x['rid']] = {'rid':x['rid'],'routeStates':[],'stops':x['stops']}\n",
    "        r_sort[x['rid']]['routeStates'].extend(sorted(x['routeStates'], key=lambda rs: int(rs['vtime'])))\n",
    "    r_sort=list(r_sort.values())\n",
    "    print('Done')\n",
    "    print(f'That all took {round(time.time()-T0,2)} seconds.')\n",
    "#     return route_data\n",
    "    return r_sort"
   ]
  },
  {
   "cell_type": "markdown",
   "metadata": {},
   "source": [
    "Testing main scraping function:"
   ]
  },
  {
   "cell_type": "code",
   "execution_count": 231,
   "metadata": {
    "scrolled": false
   },
   "outputs": [
    {
     "name": "stdout",
     "output_type": "stream",
     "text": [
      "Getting data... 0\n",
      "That took 5.59 seconds.\n",
      "Getting data... 1\n",
      "That took 4.89 seconds.\n",
      "Final formatting...\n",
      "Done\n",
      "That all took 10.59 seconds.\n"
     ]
    }
   ],
   "source": [
    "a=get_some_times(['1','14','N','14X','12'],dt_params=(2018,10,15,12),hours=2)"
   ]
  },
  {
   "cell_type": "markdown",
   "metadata": {},
   "source": [
    "List of all routes (scraped from https://github.com/trynmaps/opentransit-map/blob/master/src/res/muniRoutes2.json)"
   ]
  },
  {
   "cell_type": "code",
   "execution_count": 4,
   "metadata": {},
   "outputs": [],
   "source": [
    "all_routes = [\"1\",\"2\",\"3\",\"5\",\"6\",\"7\",\"8\",\"9\",\"10\",\"12\",\"14\",\"18\",\"19\",\"21\",\"22\",\"23\",\"24\",\"25\",\"27\",\"28\",\"29\",\"30\",\"31\",\"33\",\"35\",\"36\",\"37\",\"38\",\"39\",\"41\",\"43\",\"44\",\"45\",\"47\",\"48\",\"49\",\"52\",\"54\",\"55\",\"56\",\"57\",\"66\",\"67\",\"88\",\"90\",\"91\",\"83X\",\"30X\",\"7R\",\"J\",\"N\",\"14R\",\"14X\",\"PH\",\"E\",\"38R\",\"82X\",\"81X\",\"T-OWL\",\"M-OWL\",\"7X\",\"N-OWL\",\"L-OWL\",\"76X\",\"9R\",\"C\",\"38AX\",\"38BX\",\"31BX\",\"1AX\",\"31AX\",\"1BX\",\"K-OWL\",\"F\",\"8AX\",\"8BX\",\"M\",\"L\",\"5R\",\"PM\",\"K/T\",\"NX\",\"28R\",\"BUS\"]"
   ]
  },
  {
   "cell_type": "markdown",
   "metadata": {},
   "source": [
    "Get 24 hours of data in chunks (more than ~30 routes per call gives an error)"
   ]
  },
  {
   "cell_type": "code",
   "execution_count": 207,
   "metadata": {},
   "outputs": [],
   "source": [
    "def get24all(dt_params=(2018,10,15,7)):\n",
    "    result = []\n",
    "    t0=time.time()\n",
    "    for i in range(3):\n",
    "        print(f'Chunk {i+1} of 3:')\n",
    "        result.extend(get_some_times(all_routes[i*30:(i+1)*30],dt_params,hours=24))\n",
    "    print(f'Whole thing took {round(time.time()-t0,2)} seconds.')\n",
    "    return result"
   ]
  },
  {
   "cell_type": "markdown",
   "metadata": {},
   "source": [
    "Change `dt_params` to whatever date you want. `(year,month,day,hour)`"
   ]
  },
  {
   "cell_type": "code",
   "execution_count": 216,
   "metadata": {
    "scrolled": true
   },
   "outputs": [
    {
     "name": "stdout",
     "output_type": "stream",
     "text": [
      "Chunk 1 of 3:\n",
      "Getting data... 0\n",
      "That took 7.88 seconds.\n",
      "Getting data... 1\n",
      "That took 7.19 seconds.\n",
      "Getting data... 2\n",
      "That took 6.86 seconds.\n",
      "Getting data... 3\n",
      "That took 6.44 seconds.\n",
      "Getting data... 4\n",
      "That took 6.81 seconds.\n",
      "Getting data... 5\n",
      "That took 6.92 seconds.\n",
      "Getting data... 6\n",
      "That took 8.22 seconds.\n",
      "Getting data... 7\n",
      "That took 6.79 seconds.\n",
      "Getting data... 8\n",
      "That took 7.18 seconds.\n",
      "Getting data... 9\n",
      "That took 7.77 seconds.\n",
      "Getting data... 10\n",
      "That took 7.54 seconds.\n",
      "Getting data... 11\n",
      "That took 6.8 seconds.\n",
      "Getting data... 12\n",
      "That took 5.91 seconds.\n",
      "Getting data... 13\n",
      "That took 5.61 seconds.\n",
      "Getting data... 14\n",
      "That took 4.6 seconds.\n",
      "Getting data... 15\n",
      "That took 3.88 seconds.\n",
      "Getting data... 16\n",
      "That took 4.02 seconds.\n",
      "Getting data... 17\n",
      "That took 3.58 seconds.\n",
      "Getting data... 18\n",
      "That took 2.21 seconds.\n",
      "Getting data... 19\n",
      "That took 1.98 seconds.\n",
      "Getting data... 20\n",
      "That took 2.03 seconds.\n",
      "Getting data... 21\n",
      "That took 2.33 seconds.\n",
      "Getting data... 22\n",
      "That took 3.95 seconds.\n",
      "Getting data... 23\n",
      "That took 5.55 seconds.\n",
      "Final formatting...\n",
      "Done\n",
      "That all took 136.16 seconds.\n",
      "Chunk 2 of 3:\n",
      "Getting data... 0\n",
      "That took 6.56 seconds.\n",
      "Getting data... 1\n",
      "That took 6.11 seconds.\n",
      "Getting data... 2\n",
      "That took 9.25 seconds.\n",
      "Getting data... 3\n",
      "That took 5.45 seconds.\n",
      "Getting data... 4\n",
      "That took 5.11 seconds.\n",
      "Getting data... 5\n",
      "That took 5.2 seconds.\n",
      "Getting data... 6\n",
      "That took 5.2 seconds.\n",
      "Getting data... 7\n",
      "That took 5.82 seconds.\n",
      "Getting data... 8\n",
      "That took 5.72 seconds.\n",
      "Getting data... 9\n",
      "That took 7.26 seconds.\n",
      "Getting data... 10\n",
      "That took 6.64 seconds.\n",
      "Getting data... 11\n",
      "That took 5.74 seconds.\n",
      "Getting data... 12\n",
      "That took 4.55 seconds.\n",
      "Getting data... 13\n",
      "That took 3.85 seconds.\n",
      "Getting data... 14\n",
      "That took 3.31 seconds.\n",
      "Getting data... 15\n",
      "That took 3.14 seconds.\n",
      "Getting data... 16\n",
      "That took 2.88 seconds.\n",
      "Getting data... 17\n",
      "That took 2.62 seconds.\n",
      "Getting data... 18\n",
      "That took 2.26 seconds.\n",
      "Getting data... 19\n",
      "That took 1.81 seconds.\n",
      "Getting data... 20\n",
      "That took 1.74 seconds.\n",
      "Getting data... 21\n",
      "That took 2.11 seconds.\n",
      "Getting data... 22\n",
      "That took 3.37 seconds.\n",
      "Getting data... 23\n",
      "That took 5.27 seconds.\n",
      "Final formatting...\n",
      "Done\n",
      "That all took 114.18 seconds.\n",
      "Chunk 3 of 3:\n",
      "Getting data... 0\n",
      "That took 5.61 seconds.\n",
      "Getting data... 1\n",
      "That took 5.86 seconds.\n",
      "Getting data... 2\n",
      "That took 5.34 seconds.\n",
      "Getting data... 3\n",
      "That took 4.51 seconds.\n",
      "Getting data... 4\n",
      "That took 4.39 seconds.\n",
      "Getting data... 5\n",
      "That took 4.44 seconds.\n",
      "Getting data... 6\n",
      "That took 4.51 seconds.\n",
      "Getting data... 7\n",
      "That took 4.66 seconds.\n",
      "Getting data... 8\n",
      "That took 5.05 seconds.\n",
      "Getting data... 9\n",
      "That took 5.59 seconds.\n",
      "Getting data... 10\n",
      "That took 5.68 seconds.\n",
      "Getting data... 11\n",
      "That took 5.21 seconds.\n",
      "Getting data... 12\n",
      "That took 3.81 seconds.\n",
      "Getting data... 13\n",
      "That took 2.94 seconds.\n",
      "Getting data... 14\n",
      "That took 2.64 seconds.\n",
      "Getting data... 15\n",
      "That took 2.6 seconds.\n",
      "Getting data... 16\n",
      "That took 2.57 seconds.\n",
      "Getting data... 17\n",
      "That took 2.19 seconds.\n",
      "Getting data... 18\n",
      "That took 1.78 seconds.\n",
      "Getting data... 19\n",
      "That took 1.48 seconds.\n",
      "Getting data... 20\n",
      "That took 4.1 seconds.\n",
      "Getting data... 21\n",
      "That took 1.85 seconds.\n",
      "Getting data... 22\n",
      "That took 2.59 seconds.\n",
      "Getting data... 23\n",
      "That took 4.23 seconds.\n",
      "Final formatting...\n",
      "Done\n",
      "That all took 95.34 seconds.\n",
      "Whole thing took 345.69 seconds.\n"
     ]
    }
   ],
   "source": [
    "allofem=get24all(dt_params=(2018,10,15,0))"
   ]
  },
  {
   "cell_type": "markdown",
   "metadata": {},
   "source": [
    "Dump data to json file. Here, the final output is 185 MB, and zips to 8 MB."
   ]
  },
  {
   "cell_type": "code",
   "execution_count": 221,
   "metadata": {},
   "outputs": [],
   "source": [
    "with open(os.path.join('..','data','routes24hv1.json'),'w') as outfile:\n",
    "    json.dump(allofem,outfile)"
   ]
  },
  {
   "cell_type": "code",
   "execution_count": null,
   "metadata": {},
   "outputs": [],
   "source": []
  }
 ],
 "metadata": {
  "kernelspec": {
   "display_name": "Python [conda env:PythonData]",
   "language": "python",
   "name": "conda-env-PythonData-py"
  },
  "language_info": {
   "codemirror_mode": {
    "name": "ipython",
    "version": 3
   },
   "file_extension": ".py",
   "mimetype": "text/x-python",
   "name": "python",
   "nbconvert_exporter": "python",
   "pygments_lexer": "ipython3",
   "version": "3.6.3"
  }
 },
 "nbformat": 4,
 "nbformat_minor": 2
}
