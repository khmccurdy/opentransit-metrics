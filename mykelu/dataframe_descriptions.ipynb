{
 "cells": [
  {
   "cell_type": "code",
   "execution_count": 1,
   "metadata": {},
   "outputs": [],
   "source": [
    "import pandas as pd"
   ]
  },
  {
   "cell_type": "markdown",
   "metadata": {},
   "source": [
    "# stops.csv"
   ]
  },
  {
   "cell_type": "markdown",
   "metadata": {},
   "source": [
    "Each row is an instance of a bus arriving at a stop.\n",
    "\n",
    "Columns:\n",
    "\n",
    "**DATE**: the date at which the stop occurs\n",
    "\n",
    "**DID**: direction of the bus; I = inbound, O = outbound\n",
    "\n",
    "**ROUTE**: route that the bus stops on\n",
    "\n",
    "**SID**: stop id\n",
    "\n",
    "**TIME**: timestamp of the stop\n",
    "\n",
    "**VID**: vehicle id\n",
    "\n",
    "**timestamp**: date + time of the stop"
   ]
  },
  {
   "cell_type": "code",
   "execution_count": 3,
   "metadata": {},
   "outputs": [
    {
     "data": {
      "text/html": [
       "<div>\n",
       "<style scoped>\n",
       "    .dataframe tbody tr th:only-of-type {\n",
       "        vertical-align: middle;\n",
       "    }\n",
       "\n",
       "    .dataframe tbody tr th {\n",
       "        vertical-align: top;\n",
       "    }\n",
       "\n",
       "    .dataframe thead th {\n",
       "        text-align: right;\n",
       "    }\n",
       "</style>\n",
       "<table border=\"1\" class=\"dataframe\">\n",
       "  <thead>\n",
       "    <tr style=\"text-align: right;\">\n",
       "      <th></th>\n",
       "      <th>DATE</th>\n",
       "      <th>DID</th>\n",
       "      <th>ROUTE</th>\n",
       "      <th>SID</th>\n",
       "      <th>TIME</th>\n",
       "      <th>VID</th>\n",
       "      <th>timestamp</th>\n",
       "    </tr>\n",
       "  </thead>\n",
       "  <tbody>\n",
       "    <tr>\n",
       "      <th>0</th>\n",
       "      <td>2018-11-12</td>\n",
       "      <td>12___O_F00</td>\n",
       "      <td>12</td>\n",
       "      <td>7941</td>\n",
       "      <td>1.542010e+09</td>\n",
       "      <td>8776</td>\n",
       "      <td>2018-11-12 08:00:13-08:00</td>\n",
       "    </tr>\n",
       "    <tr>\n",
       "      <th>1</th>\n",
       "      <td>2018-11-12</td>\n",
       "      <td>12___O_F00</td>\n",
       "      <td>12</td>\n",
       "      <td>6328</td>\n",
       "      <td>1.542010e+09</td>\n",
       "      <td>8728</td>\n",
       "      <td>2018-11-12 08:00:13-08:00</td>\n",
       "    </tr>\n",
       "    <tr>\n",
       "      <th>2</th>\n",
       "      <td>2018-11-12</td>\n",
       "      <td>14___I_F00</td>\n",
       "      <td>14</td>\n",
       "      <td>5610</td>\n",
       "      <td>1.542010e+09</td>\n",
       "      <td>7283</td>\n",
       "      <td>2018-11-12 08:00:13-08:00</td>\n",
       "    </tr>\n",
       "    <tr>\n",
       "      <th>3</th>\n",
       "      <td>2018-11-12</td>\n",
       "      <td>14___I_F00</td>\n",
       "      <td>14</td>\n",
       "      <td>5582</td>\n",
       "      <td>1.542010e+09</td>\n",
       "      <td>7283</td>\n",
       "      <td>2018-11-12 08:00:13-08:00</td>\n",
       "    </tr>\n",
       "    <tr>\n",
       "      <th>4</th>\n",
       "      <td>2018-11-12</td>\n",
       "      <td>14___I_F00</td>\n",
       "      <td>14</td>\n",
       "      <td>5586</td>\n",
       "      <td>1.542010e+09</td>\n",
       "      <td>7283</td>\n",
       "      <td>2018-11-12 08:00:13-08:00</td>\n",
       "    </tr>\n",
       "  </tbody>\n",
       "</table>\n",
       "</div>"
      ],
      "text/plain": [
       "         DATE         DID  ROUTE   SID          TIME   VID  \\\n",
       "0  2018-11-12  12___O_F00     12  7941  1.542010e+09  8776   \n",
       "1  2018-11-12  12___O_F00     12  6328  1.542010e+09  8728   \n",
       "2  2018-11-12  14___I_F00     14  5610  1.542010e+09  7283   \n",
       "3  2018-11-12  14___I_F00     14  5582  1.542010e+09  7283   \n",
       "4  2018-11-12  14___I_F00     14  5586  1.542010e+09  7283   \n",
       "\n",
       "                   timestamp  \n",
       "0  2018-11-12 08:00:13-08:00  \n",
       "1  2018-11-12 08:00:13-08:00  \n",
       "2  2018-11-12 08:00:13-08:00  \n",
       "3  2018-11-12 08:00:13-08:00  \n",
       "4  2018-11-12 08:00:13-08:00  "
      ]
     },
     "execution_count": 3,
     "metadata": {},
     "output_type": "execute_result"
    }
   ],
   "source": [
    "pd.read_csv('./desktop/opentransit-metrics/mykelu/stops.csv').head()"
   ]
  },
  {
   "cell_type": "markdown",
   "metadata": {},
   "source": [
    "# wait_times.csv"
   ]
  },
  {
   "cell_type": "markdown",
   "metadata": {},
   "source": [
    "Each row is the wait time at a particular stop at a particular time (other filters, such as the route and direction, are possible).\n",
    "\n",
    "Columns:\n",
    "\n",
    "**DATE**: the date of the wait time\n",
    "\n",
    "**SID**: stop id\n",
    "\n",
    "**TIME**: the time at which the wait time begins\n",
    "\n",
    "**WAIT**: the amount of time, in seconds, it takes until a bus arrives"
   ]
  },
  {
   "cell_type": "code",
   "execution_count": 4,
   "metadata": {},
   "outputs": [
    {
     "data": {
      "text/html": [
       "<div>\n",
       "<style scoped>\n",
       "    .dataframe tbody tr th:only-of-type {\n",
       "        vertical-align: middle;\n",
       "    }\n",
       "\n",
       "    .dataframe tbody tr th {\n",
       "        vertical-align: top;\n",
       "    }\n",
       "\n",
       "    .dataframe thead th {\n",
       "        text-align: right;\n",
       "    }\n",
       "</style>\n",
       "<table border=\"1\" class=\"dataframe\">\n",
       "  <thead>\n",
       "    <tr style=\"text-align: right;\">\n",
       "      <th></th>\n",
       "      <th>DATE</th>\n",
       "      <th>SID</th>\n",
       "      <th>TIME</th>\n",
       "      <th>WAIT</th>\n",
       "    </tr>\n",
       "  </thead>\n",
       "  <tbody>\n",
       "    <tr>\n",
       "      <th>0</th>\n",
       "      <td>2018-11-12</td>\n",
       "      <td>3011</td>\n",
       "      <td>08:00:00</td>\n",
       "      <td>359.0</td>\n",
       "    </tr>\n",
       "    <tr>\n",
       "      <th>1</th>\n",
       "      <td>2018-11-12</td>\n",
       "      <td>3013</td>\n",
       "      <td>08:00:00</td>\n",
       "      <td>239.0</td>\n",
       "    </tr>\n",
       "    <tr>\n",
       "      <th>2</th>\n",
       "      <td>2018-11-12</td>\n",
       "      <td>3082</td>\n",
       "      <td>08:00:00</td>\n",
       "      <td>719.0</td>\n",
       "    </tr>\n",
       "    <tr>\n",
       "      <th>3</th>\n",
       "      <td>2018-11-12</td>\n",
       "      <td>3084</td>\n",
       "      <td>08:00:00</td>\n",
       "      <td>779.0</td>\n",
       "    </tr>\n",
       "    <tr>\n",
       "      <th>4</th>\n",
       "      <td>2018-11-12</td>\n",
       "      <td>3087</td>\n",
       "      <td>08:00:00</td>\n",
       "      <td>599.0</td>\n",
       "    </tr>\n",
       "  </tbody>\n",
       "</table>\n",
       "</div>"
      ],
      "text/plain": [
       "         DATE   SID      TIME   WAIT\n",
       "0  2018-11-12  3011  08:00:00  359.0\n",
       "1  2018-11-12  3013  08:00:00  239.0\n",
       "2  2018-11-12  3082  08:00:00  719.0\n",
       "3  2018-11-12  3084  08:00:00  779.0\n",
       "4  2018-11-12  3087  08:00:00  599.0"
      ]
     },
     "execution_count": 4,
     "metadata": {},
     "output_type": "execute_result"
    }
   ],
   "source": [
    "pd.read_csv('./desktop/opentransit-metrics/mykelu/wait_times.csv').head()"
   ]
  },
  {
   "cell_type": "code",
   "execution_count": null,
   "metadata": {},
   "outputs": [],
   "source": []
  }
 ],
 "metadata": {
  "kernelspec": {
   "display_name": "Python 3",
   "language": "python",
   "name": "python3"
  },
  "language_info": {
   "codemirror_mode": {
    "name": "ipython",
    "version": 3
   },
   "file_extension": ".py",
   "mimetype": "text/x-python",
   "name": "python",
   "nbconvert_exporter": "python",
   "pygments_lexer": "ipython3",
   "version": "3.6.4"
  }
 },
 "nbformat": 4,
 "nbformat_minor": 2
}
