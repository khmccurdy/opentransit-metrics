{
 "cells": [
  {
   "cell_type": "markdown",
   "metadata": {},
   "source": [
    "# Imports"
   ]
  },
  {
   "cell_type": "code",
   "execution_count": 2,
   "metadata": {},
   "outputs": [],
   "source": [
    "import json\n",
    "import requests\n",
    "\n",
    "from datetime import datetime, timedelta, timezone, time\n",
    "\n",
    "import pandas as pd\n",
    "import numpy as np\n",
    "from geopy.distance import distance\n",
    "\n",
    "import math\n",
    "import pprint\n",
    "import time\n",
    "\n",
    "import matplotlib.pyplot as plt\n",
    "from matplotlib.ticker import FuncFormatter\n",
    "\n",
    "from typing import List, Union\n",
    "#import pickle\n",
    "#import sys"
   ]
  },
  {
   "cell_type": "code",
   "execution_count": 18,
   "metadata": {},
   "outputs": [],
   "source": [
    "#%run desktop/opentransit-metrics/mykelu/get_stops.py"
   ]
  },
  {
   "cell_type": "markdown",
   "metadata": {},
   "source": [
    "# Query GraphQL"
   ]
  },
  {
   "cell_type": "code",
   "execution_count": 13,
   "metadata": {
    "scrolled": true
   },
   "outputs": [],
   "source": [
    "def query_graphql(start_time: int, end_time: int, route: str) -> list:\n",
    "    query = f\"\"\"{{\n",
    "        trynState(agency: \"muni\",\n",
    "                  startTime: \"{start_time}\",\n",
    "                  endTime: \"{end_time}\",\n",
    "                  routes: [\"{route}\"]) {{\n",
    "            agency\n",
    "            startTime\n",
    "            routes {{\n",
    "                stops {{\n",
    "                    sid\n",
    "                    lat\n",
    "                    lon\n",
    "                }}\n",
    "                routeStates {{\n",
    "                    vtime\n",
    "                    vehicles {{\n",
    "                        vid\n",
    "                        lat\n",
    "                        lon\n",
    "                        did\n",
    "                    }}\n",
    "                }}\n",
    "            }}\n",
    "        }}\n",
    "    }}\n",
    "    \"\"\"\n",
    "    query_url = f\"https://06o8rkohub.execute-api.us-west-2.amazonaws.com/dev/graphql?query={query}\"\n",
    "\n",
    "    request = requests.get(query_url).json()\n",
    "    try:\n",
    "        return request['data']['trynState']['routes']\n",
    "    except KeyError:\n",
    "        print(\"KeyError\")\n",
    "        return None"
   ]
  },
  {
   "cell_type": "markdown",
   "metadata": {},
   "source": [
    "# Produce Datatables"
   ]
  },
  {
   "cell_type": "code",
   "execution_count": 20,
   "metadata": {},
   "outputs": [],
   "source": [
    "def produce_stops(data: list, route: str) -> pd.DataFrame:\n",
    "    stops = pd.io.json.json_normalize(data,\n",
    "                                      record_path=['stops']) \\\n",
    "            .rename(columns={'lat': 'LAT',\n",
    "                             'lon': 'LON',\n",
    "                             'sid': 'SID'}) \\\n",
    "            .reindex(['SID', 'LAT', 'LON'], axis='columns')\n",
    "    \n",
    "    # obtain stop directions\n",
    "    stops['DID'] = stops['SID'].map({stop: direction['id']\n",
    "                                     for direction in requests\n",
    "                                                      .get(f\"http://restbus.info/api/agencies/sf-muni/routes/{route}\")\n",
    "                                                      .json()['directions']\n",
    "                                     for stop in direction['stops']})\n",
    "    \n",
    "    # remove stops that don't have an associated direction\n",
    "    stops = stops.dropna(axis='index', subset=['DID'])\n",
    "    \n",
    "    # obtain stop ordinals\n",
    "    stops['ORD'] = stops['SID'].map({stop_meta['id']: ordinal\n",
    "                                     for ordinal, stop_meta\n",
    "                                     in enumerate(requests\n",
    "                                                  .get(\"http://restbus.info/api/agencies/sf-muni/\"\n",
    "                                                       f\"routes/{route}\")\n",
    "                                                  .json()['stops'])})\n",
    "    \n",
    "    return stops"
   ]
  },
  {
   "cell_type": "code",
   "execution_count": null,
   "metadata": {
    "scrolled": true
   },
   "outputs": [],
   "source": [
    "def produce_buses(data: list) -> pd.DataFrame:\n",
    "     return pd.io.json.json_normalize(data,\n",
    "                                      record_path=['routeStates', 'vehicles'],\n",
    "                                      meta=[['routeStates', 'vtime']]) \\\n",
    "            .rename(columns={'lat': 'LAT',\n",
    "                             'lon': 'LON',\n",
    "                             'vid': 'VID',\n",
    "                             'did': 'DID',\n",
    "                             'routeStates.vtime': 'TIME'}) \\\n",
    "            .reindex(['TIME', 'VID', 'LAT', 'LON', 'DID'], axis='columns')"
   ]
  },
  {
   "cell_type": "markdown",
   "metadata": {},
   "source": [
    "# Define Route"
   ]
  },
  {
   "cell_type": "code",
   "execution_count": null,
   "metadata": {
    "scrolled": false
   },
   "outputs": [
    {
     "name": "stdout",
     "output_type": "stream",
     "text": [
      "it took 3.6592118740081787 seconds to open and define route\n"
     ]
    },
    {
     "data": {
      "image/png": "[encoded data removed]",
      "text/plain": [
       "<Figure size 432x288 with 1 Axes>"
      ]
     },
     "metadata": {
      "needs_background": "light"
     },
     "output_type": "display_data"
    }
   ],
   "source": [
    "def routedef(routename: str) -> pd.DataFrame:\n",
    "    \n",
    "    with open('muniroutes_geo.json') as json_data:\n",
    "        data = json.load(json_data)\n",
    "        data = data['features']\n",
    "        \n",
    "        # collect coordinates for certain route, if route number matches given routename ex)'name'=:'14'\n",
    "        routedata = [routedata['geometry']['coordinates'] \\\n",
    "                       for routedata in data \\\n",
    "                       if (routedata['properties']['name'] == routename)]\n",
    "        routedata = routedata[0]\n",
    "        \n",
    "        routecoords = []\n",
    "        for coordlist in routedata:\n",
    "            for coord in coordlist:\n",
    "                routecoords.append(coord)\n",
    "        \n",
    "        \n",
    "        #get coordinates of stops for the route\n",
    "        stopsdata = requests.get(f\"http://restbus.info/api/agencies/sf-muni/routes/{routename}\").json()['stops']\n",
    "        \n",
    "        stopcoords = []\n",
    "        for stop in stopsdata:\n",
    "            stopcoords.append([stop['lon'],stop['lat']])\n",
    "        \n",
    "        # add stop coordinates to route coordnates\n",
    "        for stop in stopcoords:\n",
    "            # check if repeating coordinate\n",
    "            if stop not in routecoords:\n",
    "                routecoords.append(stop)\n",
    "\n",
    "        routecoords = pd.DataFrame(routecoords, columns = ['LON','LAT'])\n",
    "        return routecoords\n",
    "\n",
    "t1=time.time()\n",
    "routecoords = routedef('14')\n",
    "print('it took %s seconds to open and define route'%(time.time()-t1))\n",
    "\n",
    "plt.title('gps coordinates of route 14 definition')\n",
    "plt.xlabel('Longitude')\n",
    "plt.ylabel('Latitude')\n",
    "plt.scatter(routecoords['LON'],routecoords['LAT'], s = 5)\n",
    "plt.show()\n"
   ]
  },
  {
   "cell_type": "markdown",
   "metadata": {},
   "source": [
    "# Eclipses"
   ]
  },
  {
   "cell_type": "code",
   "execution_count": null,
   "metadata": {
    "scrolled": false
   },
   "outputs": [],
   "source": [
    "\n",
    "# haversine formula for calcuating distance between two coordinates in lat lon\n",
    "# from bird eye view; seems to be +- 8 meters difference from geopy distance\n",
    "def haver_distance(latstop,lonstop,latbus,lonbus):\n",
    "\n",
    "    latstop,lonstop,latbus,lonbus = map(np.deg2rad,[latstop,lonstop,latbus,lonbus])\n",
    "    eradius = 6371000\n",
    "    \n",
    "    latdiff = (latbus-latstop)\n",
    "    londiff = (lonbus-lonstop)\n",
    "    \n",
    "    a = np.sin(latdiff/2)**2 + np.cos(latstop)*np.cos(latbus)*np.sin(londiff/2)**2\n",
    "    c = 2*np.arctan2(np.sqrt(a),np.sqrt(1-a))\n",
    "    \n",
    "    distance = eradius*c\n",
    "    return distance\n",
    "    \n",
    "def find_eclipses(buses, stop):\n",
    "    \"\"\"\n",
    "    Find movement of buses relative to the stop, in distance as a function of time.\n",
    "    \"\"\"\n",
    "    def split_eclipses(eclipses, threshold=30*60*1000) -> List[pd.DataFrame]:\n",
    "        \"\"\"\n",
    "        Split buses' movements when they return to a stop after completing the route.\n",
    "        \"\"\"\n",
    "        disjoint_eclipses = []\n",
    "        for bus_id in eclipses['VID'].unique(): # list of unique VID's\n",
    "            # obtain distance data for this one bus\n",
    "            bus = eclipses[eclipses['VID'] == bus_id].sort_values('TIME')\n",
    "            #pprint.pprint(bus)\n",
    "            #pprint.pprint(bus['TIME'].shift())\n",
    "            #pprint.pprint(bus['TIME'].shift() + threshold)\n",
    "            #print('===============')\n",
    "            # split data into groups when there is at least a `threshold`-ms gap between data points\n",
    "            group_ids = (bus['TIME'] > (bus['TIME'].shift() + threshold)).cumsum()\n",
    "\n",
    "            # store groups\n",
    "            for _, group in bus.groupby(group_ids):\n",
    "                disjoint_eclipses.append(group)\n",
    "        return disjoint_eclipses\n",
    "\n",
    "    eclipses = buses.copy()\n",
    "    #eclipses['DIST'] = eclipses.apply(lambda row: distance(stop[['LAT','LON']],row[['LAT','LON']]).meters,axis=1)\n",
    "    \n",
    "    stopcoord = stop[['LAT', 'LON']]\n",
    "    buscoord = eclipses[['LAT', 'LON']]\n",
    "\n",
    "    # calculate distances fast with haversine function \n",
    "    eclipses['DIST'] = haver_distance(stopcoord['LAT'],stopcoord['LON'],buscoord['LAT'],buscoord['LON'])\n",
    "    # only keep positions within 750 meters within the given stop; (filtering out)\n",
    "    eclipses = eclipses[eclipses['DIST'] < 750]\n",
    "    \n",
    "    # update the coordinates list \n",
    "    stopcoord = stop[['LAT', 'LON']].values\n",
    "    buscoord = eclipses[['LAT', 'LON']].values\n",
    "    \n",
    "    # calculate distances again using geopy for the distance<750m values, because geopy is probably more accurate\n",
    "    dfromstop = []\n",
    "    for row in buscoord:\n",
    "        busdistance = distance(stopcoord,row).meters\n",
    "        dfromstop.append(busdistance)\n",
    "    eclipses['DIST'] = dfromstop\n",
    "    \n",
    "    # for haversine function:\n",
    "    #stopcord = stop[['LAT', 'LON']]\n",
    "    #buscord = eclipses[['LAT', 'LON']]\n",
    "    #eclipses['DIST'] = haver_distance(stopcord['LAT'],stopcord['LON'],buscord['LAT'],buscord['LON'])\n",
    "    \n",
    "    eclipses['TIME'] = eclipses['TIME'].astype(np.int64)\n",
    "    eclipses = eclipses[['TIME', 'VID', 'DIST']]\n",
    "    \n",
    "    eclipses = split_eclipses(eclipses)\n",
    "    \n",
    "    return eclipses\n",
    "\n",
    "def find_nadirs(eclipses):\n",
    "    \"\"\"\n",
    "    Find points where buses are considered to have encountered the stop.\n",
    "    \n",
    "    Nadir is an astronomical term that describes the lowest point reached by an orbiting body.\n",
    "    \"\"\"\n",
    "    def calc_nadir(eclipse: pd.DataFrame) -> Union[pd.Series, None]:\n",
    "        nadir = eclipse.iloc[eclipse['DIST'].values.argmin()]\n",
    "        if nadir['DIST'] < 100:  # if min dist < 100, then reasonable candidate for nadir\n",
    "            return nadir\n",
    "        else:  # otherwise, hardcore datasci is needed\n",
    "            rev_eclipse = eclipse.iloc[::-1]\n",
    "            rev_nadir = rev_eclipse.iloc[rev_eclipse['DIST'].values.argmin()]\n",
    "            if nadir['TIME'] == rev_nadir['TIME']:  # if eclipse has a global min\n",
    "                return nadir  # then it's the best candidate for nadir\n",
    "            else:  # if eclipse's min occurs at two times\n",
    "                mid_nadir = nadir.copy()\n",
    "                mid_nadir['DIST'] = (nadir['DIST'] + rev_nadir['DIST'])/2\n",
    "                return mid_nadir  # take the midpoint of earliest and latest mins\n",
    "    \n",
    "    nadirs = []\n",
    "    for eclipse in eclipses:\n",
    "        nadirs.append(calc_nadir(eclipse)[['VID', 'TIME']])\n",
    "        \n",
    "    return pd.DataFrame(nadirs)\n",
    "            \n",
    "    \n",
    "def show_stop(eclipses, nadirs):\n",
    "    fig = plt.figure(figsize=(18, 9))\n",
    "    ax = fig.add_subplot(111)\n",
    "\n",
    "    for eclipse in eclipses:\n",
    "        plt.plot(*eclipse[['TIME', 'DIST']].values.T)\n",
    "        \n",
    "    for nadir_time in nadirs['TIME']:\n",
    "        plt.axvline(nadir_time, linestyle='--', linewidth=.5)\n",
    "\n",
    "    # format plot\n",
    "    ax.get_xaxis().set_major_formatter(  # convert x-axis tick labels to time of day\n",
    "        FuncFormatter(lambda x, p: datetime.fromtimestamp(int(x)//1000).strftime('%I:%M%p')))\n",
    "    plt.title(f\"Eclipses at Stop {stop_id}\"\n",
    "              f\" from {datetime.fromtimestamp(int(start_time)//1000).strftime('%a %b %d %I:%M%p')}\"\n",
    "              f\" to {datetime.fromtimestamp(int(end_time)//1000).strftime('%a %b %d %I:%M%p')}\")\n",
    "    plt.xlabel(\"Time\")\n",
    "    plt.ylabel(\"Distance from Stop (meters)\")\n",
    "\n",
    "    plt.show()"
   ]
  },
  {
   "cell_type": "markdown",
   "metadata": {},
   "source": [
    "# Hardcore Data Science"
   ]
  },
  {
   "cell_type": "code",
   "execution_count": 1,
   "metadata": {},
   "outputs": [],
   "source": [
    "route = [\"12\", \"14\"]\n",
    "\n",
    "#timespan = (\"08:00\",\n",
    "#            \"11:00\")\n",
    "\n",
    "timespan = (\"08:00\",\n",
    "            \"11:00\")\n",
    "\n",
    "dates = [\n",
    "    \"2018-11-12\",\n",
    "    \"2018-11-13\",\n",
    "    \"2018-11-14\",\n",
    "    \"2018-11-15\",\n",
    "    \"2018-11-16\",\n",
    "]"
   ]
  },
  {
   "cell_type": "markdown",
   "metadata": {},
   "source": [
    "Issue: The plot is labeled based on the machine's current timezone, which may not necessarily match the times sent to the API. To remedy this, the logic for displaying the plot would have to be adjusted to account for the UTC offset of the epochs we get back from the API, which I'm hoping there's a module for but I'm not presently familiar with any."
   ]
  },
  {
   "cell_type": "markdown",
   "metadata": {},
   "source": [
    "Issue: currently, if a trajectory looks like `/~V`, the left edge is selected as the nadir. Based on the data, I suspect that the initial upslope may be a GPS glitch as it's being initialized, I believe the trough on the right should be selected instead."
   ]
  },
  {
   "cell_type": "code",
   "execution_count": null,
   "metadata": {},
   "outputs": [],
   "source": [
    "class BusData:\n",
    "    def __init__(self):\n",
    "        self.data = {}\n",
    "    \n",
    "    @property\n",
    "    def routes(self):\n",
    "        return list(self.data.keys())\n",
    "    \n",
    "    @property\n",
    "    def stops(self, route_id):\n",
    "        return list(self.data.get(route_id, {}).keys())\n",
    "    \n",
    "    def append(self, other_data):\n",
    "        for route_id, other_route in other_data.items():\n",
    "            route = self.data.get(route_id)\n",
    "            if route:\n",
    "                for stop_id, other_stop in other_route.items():\n",
    "                    stop = route.get(stop_id)\n",
    "                    if stop:\n",
    "                        stop['eclipses'].extend(other_stop['eclipses'])\n",
    "                    else:\n",
    "                        route[stop_id] = other_stop\n",
    "            else:\n",
    "                self.data[route_id] = other_route\n",
    "    \n",
    "    @classmethod\n",
    "    def read_file(cls, filename):\n",
    "        bus_data = cls()\n",
    "        with open(filename, 'r') as f:\n",
    "            bus_data.append(json.load(f))\n",
    "        return bus_data\n",
    "                \n",
    "    \n",
    "    def write_file(self, filename):\n",
    "        with open(filename, 'w') as f:\n",
    "            json.dump(self.data, f)"
   ]
  },
  {
   "cell_type": "markdown",
   "metadata": {},
   "source": [
    "`BusData.data` specification:\n",
    "```\n",
    "{\n",
    "    route_id: {  # route_id is a str\n",
    "        stop_id: {  # stop_id is a str\n",
    "            direction_id: str,\n",
    "            order: int,\n",
    "            lat: float,\n",
    "            lon: float,\n",
    "            eclipses: [\n",
    "                {\n",
    "                    bus_id: int,\n",
    "                    timestamp: int,\n",
    "                },\n",
    "                {\n",
    "                    bus_id: int,\n",
    "                    timestamp: int,\n",
    "                },\n",
    "                ...\n",
    "            ]\n",
    "        },\n",
    "        ...\n",
    "    },\n",
    "    ...\n",
    "}\n",
    "```"
   ]
  },
  {
   "cell_type": "code",
   "execution_count": null,
   "metadata": {},
   "outputs": [],
   "source": [
    "def get_stops(dates, routes, directions = [], new_stops = [], times = timespan):\n",
    "    \"\"\"\n",
    "    get_stops\n",
    "    \n",
    "    Description:\n",
    "        Returns every instance of a bus stopping at a given set of stops, on a given set of routes, during a given time period.\n",
    "\n",
    "    Parameters:\n",
    "        dates: an array of dates, formatted as strings in the form YYYY-MM-DD\n",
    "        routes: an array of routes, each represented as a string\n",
    "        directions: an array of strings representing the directions to filter\n",
    "        stops: an array of strings representing the stops to filter\n",
    "        times: a tuple with the start and end times (in UTC -8:00) as strings in the form HH:MM \n",
    "\n",
    "    Returns:\n",
    "        stops: a DataFrame, filtered by the given directions and stops, with the following columns:\n",
    "            VID: the vehicle ID\n",
    "            Time: a datetime object representing the date/time of the stop\n",
    "            Route: the route on which the stop occurred\n",
    "            Stop: the stop at which the stop occurred\n",
    "            Dir: the direction in which the stop occurred\n",
    "    \"\"\"\n",
    "    bus_stops = pd.DataFrame(columns = [\"VID\", \"DATE\", \"TIME\", \"SID\", \"DID\", \"ROUTE\"])\n",
    "\n",
    "    for route in routes:\n",
    "        stop_ids = [stop['id']\n",
    "            for stop\n",
    "            in requests.get(f\"http://restbus.info/api/agencies/sf-muni/routes/{route}\").json()['stops']]\n",
    "\n",
    "        for stop_id in stop_ids:\n",
    "            # check if stops to filter were provided, or if the stop_id is in the list of filtered stops\n",
    "            if (stop_id in new_stops) ^ (len(new_stops) == 0):\n",
    "                for date in dates:\n",
    "                    print(f\"{datetime.now().strftime('%a %b %d %I:%M:%S %p')}: starting processing on stop {stop_id} on route {route} on {date}.\")\n",
    "                    start_time = int(datetime.strptime(f\"{date} {timespan[0]} -0800\", \"%Y-%m-%d %H:%M %z\").timestamp())*1000\n",
    "                    end_time   = int(datetime.strptime(f\"{date} {timespan[1]} -0800\", \"%Y-%m-%d %H:%M %z\").timestamp())*1000\n",
    "\n",
    "                    data = query_graphql(start_time, end_time, route)\n",
    "#                     print(f\"{datetime.now().strftime('%a %b %d %I:%M:%S %p')}: performed query.\")\n",
    "                          \n",
    "                    if data is None:  # API might refuse to cooperate\n",
    "                        print(\"API probably timed out\")\n",
    "                        continue\n",
    "                    elif len(data) == 0:  # some days somehow have no data\n",
    "                        print(f\"no data for {month}/{day}\")\n",
    "                        continue\n",
    "                    else:\n",
    "                        try:\n",
    "                            stops = produce_stops(data, route)\n",
    "                        except: # account for...bad requests?\n",
    "                            print(f\"{datetime.now().strftime('%a %b %d %I:%M:%S %p')}: could not produce stops df for {stop_id} on route {route} on {date}. Skipping.\")\n",
    "                            continue\n",
    "#                         print(f\"{datetime.now().strftime('%a %b %d %I:%M:%S %p')}: produced stops.\")\n",
    "                              \n",
    "                        buses = produce_buses(data)\n",
    "#                        print(f\"{datetime.now().strftime('%a %b %d %I:%M:%S %p')}: produced buses.\")\n",
    "\n",
    "                        stop = stops[stops['SID'] == stop_id].squeeze()\n",
    "#                        print(stops['SID'].unique())\n",
    "#                        print(buses)\n",
    "                        try: \n",
    "                            buses = buses[buses['DID'] == stop['DID']]\n",
    "                        except ValueError: # accounts for stops with no associated direction\n",
    "                            print(f\"{datetime.now().strftime('%a %b %d %I:%M:%S %p')}: no direction associated to {stop_id} on route {route} on {date}. Skipping.\")\n",
    "                            continue\n",
    "#                        print(buses)\n",
    "\n",
    "                        eclipses = find_eclipses(buses, stop)\n",
    "#                         print(f\"{datetime.now().strftime('%a %b %d %I:%M:%S %p')}: found eclipses.\")\n",
    "                              \n",
    "                        nadirs = find_nadirs(eclipses)\n",
    "#                         print(f\"{datetime.now().strftime('%a %b %d %I:%M:%S %p')}: found nadirs.\")\n",
    "                            \n",
    "                        nadirs[\"TIME\"] = nadirs[\"TIME\"].apply(lambda x: datetime.fromtimestamp(x//1000, timezone(timedelta(hours = -8))))\n",
    "                        nadirs['DATE'] = nadirs['TIME'].apply(lambda x: x.date())\n",
    "                        nadirs['TIME'] = nadirs['TIME'].apply(lambda x: x.time())\n",
    "                        nadirs[\"SID\"] = stop_id\n",
    "                        nadirs[\"DID\"] = stop[\"DID\"]\n",
    "                        nadirs[\"ROUTE\"] = route\n",
    "                        old_length = len(bus_stops)\n",
    "                        bus_stops = bus_stops.append(nadirs, sort = True)\n",
    "#                         print(f\"{datetime.now().strftime('%a %b %d %I:%M:%S %p')}: finished processing.\")\n",
    "\n",
    "    # filter for directions\n",
    "    if len(directions) > 0:\n",
    "        bus_stops = bus_stops.loc[bus_stops['DID'].apply(lambda x: x in directions)]\n",
    "     \n",
    "    # prepare timestamp data; conditional accounts for an empty df\n",
    "    if len(bus_stops) > 0:\n",
    "        bus_stops['timestamp'] = bus_stops[['DATE', 'TIME']].apply(lambda x: datetime.strptime(f\"{x['DATE'].isoformat()} {x['TIME'].isoformat()} -0800\", \n",
    "                                                                                       \"%Y-%m-%d %H:%M:%S %z\"), axis = 'columns')\n",
    "    \n",
    "    return bus_stops"
   ]
  },
  {
   "cell_type": "code",
   "execution_count": null,
   "metadata": {
    "scrolled": false
   },
   "outputs": [
    {
     "name": "stdout",
     "output_type": "stream",
     "text": [
      "Sat Feb 09 01:52:16 PM: starting processing on stop 7941 on route 12 on 2018-11-12.\n",
      "Sat Feb 09 01:52:29 PM: starting processing on stop 7941 on route 12 on 2018-11-13.\n",
      "Sat Feb 09 01:52:40 PM: starting processing on stop 7941 on route 12 on 2018-11-14.\n",
      "Sat Feb 09 01:52:51 PM: starting processing on stop 7941 on route 12 on 2018-11-15.\n",
      "Sat Feb 09 01:53:05 PM: starting processing on stop 7941 on route 12 on 2018-11-16.\n",
      "Sat Feb 09 01:53:18 PM: starting processing on stop 5859 on route 12 on 2018-11-12.\n",
      "Sat Feb 09 01:53:34 PM: starting processing on stop 5859 on route 12 on 2018-11-13.\n",
      "Sat Feb 09 01:53:46 PM: starting processing on stop 5859 on route 12 on 2018-11-14.\n",
      "Sat Feb 09 01:53:59 PM: starting processing on stop 5859 on route 12 on 2018-11-15.\n",
      "Sat Feb 09 01:54:10 PM: starting processing on stop 5859 on route 12 on 2018-11-16.\n",
      "Sat Feb 09 01:54:21 PM: starting processing on stop 5851 on route 12 on 2018-11-12.\n",
      "Sat Feb 09 01:54:34 PM: starting processing on stop 5851 on route 12 on 2018-11-13.\n",
      "Sat Feb 09 01:54:48 PM: starting processing on stop 5851 on route 12 on 2018-11-14.\n",
      "Sat Feb 09 01:54:59 PM: starting processing on stop 5851 on route 12 on 2018-11-15.\n",
      "Sat Feb 09 01:55:10 PM: starting processing on stop 5851 on route 12 on 2018-11-16.\n",
      "Sat Feb 09 01:55:22 PM: starting processing on stop 5844 on route 12 on 2018-11-12.\n",
      "Sat Feb 09 01:55:33 PM: starting processing on stop 5844 on route 12 on 2018-11-13.\n",
      "Sat Feb 09 01:55:44 PM: starting processing on stop 5844 on route 12 on 2018-11-14.\n",
      "Sat Feb 09 01:55:56 PM: starting processing on stop 5844 on route 12 on 2018-11-15.\n",
      "Sat Feb 09 01:56:05 PM: starting processing on stop 5844 on route 12 on 2018-11-16.\n",
      "Sat Feb 09 01:56:21 PM: starting processing on stop 5839 on route 12 on 2018-11-12.\n",
      "Sat Feb 09 01:56:31 PM: starting processing on stop 5839 on route 12 on 2018-11-13.\n",
      "Sat Feb 09 01:56:50 PM: starting processing on stop 5839 on route 12 on 2018-11-14.\n",
      "Sat Feb 09 01:57:01 PM: starting processing on stop 5839 on route 12 on 2018-11-15.\n",
      "Sat Feb 09 01:57:17 PM: starting processing on stop 5839 on route 12 on 2018-11-16.\n",
      "Sat Feb 09 01:57:28 PM: starting processing on stop 5846 on route 12 on 2018-11-12.\n",
      "Sat Feb 09 01:57:40 PM: starting processing on stop 5846 on route 12 on 2018-11-13.\n",
      "Sat Feb 09 01:57:50 PM: starting processing on stop 5846 on route 12 on 2018-11-14.\n"
     ]
    }
   ],
   "source": [
    "new_stops = get_stops(dates, route)"
   ]
  },
  {
   "cell_type": "markdown",
   "metadata": {},
   "source": [
    "# Test query optimization"
   ]
  },
  {
   "cell_type": "code",
   "execution_count": 20,
   "metadata": {},
   "outputs": [
    {
     "name": "stdout",
     "output_type": "stream",
     "text": [
      "Wed Feb 13 06:51:06 PM: starting processing on route 12.\n",
      "KeyError\n",
      "Wed Feb 13 06:51:35 PM: performed query.\n"
     ]
    }
   ],
   "source": [
    "print(f\"{datetime.now().strftime('%a %b %d %I:%M:%S %p')}: starting processing on route 12.\")\n",
    "start_time = int(datetime.strptime(f\"2018-11-12 {timespan[0]} -0800\", \"%Y-%m-%d %H:%M %z\").timestamp())*1000\n",
    "end_time   = int(datetime.strptime(f\"2018-11-13 00:01 -0800\", \"%Y-%m-%d %H:%M %z\").timestamp())*1000\n",
    "\n",
    "data = query_graphql(start_time, end_time, '12')\n",
    "print(f\"{datetime.now().strftime('%a %b %d %I:%M:%S %p')}: performed query.\")"
   ]
  },
  {
   "cell_type": "code",
   "execution_count": null,
   "metadata": {},
   "outputs": [],
   "source": []
  }
 ],
 "metadata": {
  "kernelspec": {
   "display_name": "Python 3",
   "language": "python",
   "name": "python3"
  },
  "language_info": {
   "codemirror_mode": {
    "name": "ipython",
    "version": 3
   },
   "file_extension": ".py",
   "mimetype": "text/x-python",
   "name": "python",
   "nbconvert_exporter": "python",
   "pygments_lexer": "ipython3",
   "version": "3.7.1"
  },
  "nbdime-conflicts": {
   "local_diff": [
    {
     "diff": [
      {
       "diff": [
        {
         "diff": [
          {
           "key": 4,
           "op": "addrange",
           "valuelist": "4"
          },
          {
           "key": 4,
           "length": 1,
           "op": "removerange"
          }
         ],
         "key": 0,
         "op": "patch"
        }
       ],
       "key": "version",
       "op": "patch"
      }
     ],
     "key": "language_info",
     "op": "patch"
    }
   ],
   "remote_diff": [
    {
     "key": "language_info",
     "op": "remove"
    }
   ]
  }
 },
 "nbformat": 4,
 "nbformat_minor": 2
}
