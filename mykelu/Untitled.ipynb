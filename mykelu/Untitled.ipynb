{
 "cells": [
  {
   "cell_type": "code",
   "execution_count": 1,
   "metadata": {},
   "outputs": [],
   "source": [
    "import json\n",
    "import requests"
   ]
  },
  {
   "cell_type": "code",
   "execution_count": 2,
   "metadata": {},
   "outputs": [],
   "source": [
    "def query_graphql(route, start_date, end_date):\n",
    "    \n",
    "    query = f\"\"\"{{\n",
    "          trynState(agency: \"muni\", startTime: \"{start_time}\", endTime: \"{end_time}\", routes: {list_string(route)}) {{\n",
    "            agency\n",
    "            startTime\n",
    "            routes {{\n",
    "              rid\n",
    "              stops {{\n",
    "                sid\n",
    "                name\n",
    "                lat\n",
    "                lon\n",
    "              }}\n",
    "              routeStates {{\n",
    "                vtime\n",
    "                vehicles {{\n",
    "                  vid\n",
    "                  lat\n",
    "                  lon\n",
    "                  heading\n",
    "                  did\n",
    "                }}\n",
    "              }}\n",
    "            }}\n",
    "          }}\n",
    "        }}\n",
    "        \"\"\"\n",
    "    return {}"
   ]
  },
  {
   "cell_type": "code",
   "execution_count": null,
   "metadata": {},
   "outputs": [],
   "source": []
  }
 ],
 "metadata": {
  "kernelspec": {
   "display_name": "Python 3",
   "language": "python",
   "name": "python3"
  },
  "language_info": {
   "codemirror_mode": {
    "name": "ipython",
    "version": 3
   },
   "file_extension": ".py",
   "mimetype": "text/x-python",
   "name": "python",
   "nbconvert_exporter": "python",
   "pygments_lexer": "ipython3",
   "version": "3.7.1"
  }
 },
 "nbformat": 4,
 "nbformat_minor": 2
}
