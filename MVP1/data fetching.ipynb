{
 "cells": [
  {
   "cell_type": "code",
   "execution_count": 1,
   "metadata": {},
   "outputs": [],
   "source": [
    "import requests\n",
    "import json\n",
    "import math"
   ]
  },
  {
   "cell_type": "markdown",
   "metadata": {},
   "source": [
    "## Querying the API for bus locations and stops"
   ]
  },
  {
   "cell_type": "code",
   "execution_count": 2,
   "metadata": {},
   "outputs": [],
   "source": [
    "start_time = 1539490442179\n",
    "end_time   = 1539490499179\n",
    "routes = [\"14\",\"14R\",\"49\"]"
   ]
  },
  {
   "cell_type": "code",
   "execution_count": 3,
   "metadata": {},
   "outputs": [],
   "source": [
    "def list_string(arr):\n",
    "    return f\"{arr}\".replace(\"'\",'\"')"
   ]
  },
  {
   "cell_type": "code",
   "execution_count": 4,
   "metadata": {},
   "outputs": [],
   "source": [
    "query = f\"\"\"{{\n",
    "  trynState(agency: \"muni\", startTime: \"{start_time}\", endTime: \"{end_time}\", routes: {list_string(routes)}) {{\n",
    "    agency\n",
    "    startTime\n",
    "    routes {{\n",
    "      rid\n",
    "      stops {{\n",
    "        sid\n",
    "        name\n",
    "        lat\n",
    "        lon\n",
    "      }}\n",
    "      routeStates {{\n",
    "        vtime\n",
    "        vehicles {{\n",
    "          vid\n",
    "          lat\n",
    "          lon\n",
    "          heading\n",
    "        }}\n",
    "      }}\n",
    "    }}\n",
    "  }}\n",
    "}}\n",
    "\"\"\" # Braces need to be doubled for f-string"
   ]
  },
  {
   "cell_type": "code",
   "execution_count": 5,
   "metadata": {},
   "outputs": [],
   "source": [
    "query_url = \"https://06o8rkohub.execute-api.us-west-2.amazonaws.com/dev/graphql?query=\"+query\n",
    "r = requests.get(query_url)"
   ]
  },
  {
   "cell_type": "markdown",
   "metadata": {},
   "source": [
    "### Parsing the returned data"
   ]
  },
  {
   "cell_type": "code",
   "execution_count": 6,
   "metadata": {},
   "outputs": [],
   "source": [
    "data = json.loads(r.text)\n",
    "route_list = data['data']['trynState']['routes']"
   ]
  },
  {
   "cell_type": "code",
   "execution_count": 7,
   "metadata": {},
   "outputs": [
    {
     "data": {
      "text/plain": [
       "{'heading': 165, 'lat': 37.755463, 'lon': -122.418823, 'vid': '7257'}"
      ]
     },
     "execution_count": 7,
     "metadata": {},
     "output_type": "execute_result"
    }
   ],
   "source": [
    "route_list[0]['routeStates'][1]['vehicles'][4]"
   ]
  },
  {
   "cell_type": "code",
   "execution_count": 8,
   "metadata": {},
   "outputs": [
    {
     "data": {
      "text/plain": [
       "{'lat': 37.78075,\n",
       " 'lon': -122.4090999,\n",
       " 'name': 'Mission St & 6th St',\n",
       " 'sid': '5538'}"
      ]
     },
     "execution_count": 8,
     "metadata": {},
     "output_type": "execute_result"
    }
   ],
   "source": [
    "route_list[0]['stops'][8]"
   ]
  },
  {
   "cell_type": "markdown",
   "metadata": {},
   "source": [
    "## Function to find the closest stop to a bus"
   ]
  },
  {
   "cell_type": "code",
   "execution_count": 88,
   "metadata": {},
   "outputs": [],
   "source": [
    "def get_dist(loc1,loc2,lat_scale=1,lon_scale=1):\n",
    "    return abs(loc1['lat']-loc2['lat'])*lat_scale + abs(loc1['lon']-loc2['lon'])*lon_scale"
   ]
  },
  {
   "cell_type": "code",
   "execution_count": 89,
   "metadata": {},
   "outputs": [],
   "source": [
    "def get_closest(loc,stop_list,lat_scale=1,lon_scale=1):\n",
    "    # Running minimum distance\n",
    "    running_min=500 #Dumb high number\n",
    "\n",
    "    for stop in stop_list:\n",
    "        current_min=get_dist(loc,stop,lat_scale,lon_scale)\n",
    "        if current_min < running_min:\n",
    "            running_min = current_min\n",
    "            running_best_stop = stop\n",
    "            \n",
    "    return running_best_stop"
   ]
  },
  {
   "cell_type": "code",
   "execution_count": 84,
   "metadata": {},
   "outputs": [],
   "source": [
    "# Scale latitude and longitude to miles\n",
    "scale_miles =  {\n",
    "    'lat_scale' : 69.0,\n",
    "    'lon_scale' : 54.8\n",
    "}\n",
    "# math.cos(37.7*math.pi/180)"
   ]
  },
  {
   "cell_type": "code",
   "execution_count": 12,
   "metadata": {},
   "outputs": [
    {
     "data": {
      "text/plain": [
       "{'lat': 37.72635,\n",
       " 'lon': -122.4336499,\n",
       " 'name': 'Mission St & Francis St',\n",
       " 'sid': '5590'}"
      ]
     },
     "execution_count": 12,
     "metadata": {},
     "output_type": "execute_result"
    }
   ],
   "source": [
    "bus_1 = route_list[0]['routeStates'][1]['vehicles'][2]\n",
    "stops_14 = route_list[0]['stops']\n",
    "\n",
    "get_closest(bus_1, stops_14, lat_scale)"
   ]
  },
  {
   "cell_type": "code",
   "execution_count": 13,
   "metadata": {},
   "outputs": [
    {
     "data": {
      "text/plain": [
       "'7216'"
      ]
     },
     "execution_count": 13,
     "metadata": {},
     "output_type": "execute_result"
    }
   ],
   "source": [
    "route_list[0]['routeStates'][1]['vehicles'][2]['vid']"
   ]
  },
  {
   "cell_type": "markdown",
   "metadata": {},
   "source": [
    "### Closest stops for a single bus over time series\n",
    "\n",
    "Robustness: Buses may not always have same index in `vehicles` array. Can query by `vid`, though it's more verbose."
   ]
  },
  {
   "cell_type": "code",
   "execution_count": 83,
   "metadata": {},
   "outputs": [
    {
     "data": {
      "text/plain": [
       "[(1539490450077, 'Mission St & Excelsior Ave'),\n",
       " (1539490465083, 'Mission St & Excelsior Ave'),\n",
       " (1539490480087, 'Mission St & Silver Ave'),\n",
       " (1539490495092, 'Mission St & Silver Ave')]"
      ]
     },
     "execution_count": 83,
     "metadata": {},
     "output_type": "execute_result"
    }
   ],
   "source": [
    "[(int(x['vtime']), get_closest(x['vehicles'][0],stops_14)['name']) for x in route_list[0]['routeStates']]"
   ]
  },
  {
   "cell_type": "code",
   "execution_count": 74,
   "metadata": {},
   "outputs": [
    {
     "data": {
      "text/plain": [
       "[(1539490450077, 'Mission St & 4th St'),\n",
       " (1539490465083, 'Mission St & 4th St'),\n",
       " (1539490480087, 'Mission St & 4th St'),\n",
       " (1539490495092, 'Mission St & 3rd St')]"
      ]
     },
     "execution_count": 74,
     "metadata": {},
     "output_type": "execute_result"
    }
   ],
   "source": [
    "[(int(x['vtime']), get_closest(x['vehicles'][13],stops_14)['name']) for x in route_list[0]['routeStates']]"
   ]
  },
  {
   "cell_type": "code",
   "execution_count": 75,
   "metadata": {},
   "outputs": [
    {
     "data": {
      "text/plain": [
       "[(1539490450077, 'Mission St & 30th St'),\n",
       " (1539490465083, 'Mission St & Cortland Ave'),\n",
       " (1539490480087, 'Mission St & Cortland Ave'),\n",
       " (1539490495092, 'Mission St & Cortland Ave')]"
      ]
     },
     "execution_count": 75,
     "metadata": {},
     "output_type": "execute_result"
    }
   ],
   "source": [
    "[(int(x['vtime']), get_closest(x['vehicles'][9],route_list[1]['stops'])['name']) for x in route_list[1]['routeStates']]"
   ]
  },
  {
   "cell_type": "markdown",
   "metadata": {},
   "source": [
    "Querying by `vid`, using comprehension syntax"
   ]
  },
  {
   "cell_type": "code",
   "execution_count": 76,
   "metadata": {},
   "outputs": [
    {
     "data": {
      "text/plain": [
       "[(1539490450077, 'Mission St & 30th St'),\n",
       " (1539490465083, 'Mission St & Cortland Ave'),\n",
       " (1539490480087, 'Mission St & Cortland Ave'),\n",
       " (1539490495092, 'Mission St & Cortland Ave')]"
      ]
     },
     "execution_count": 76,
     "metadata": {},
     "output_type": "execute_result"
    }
   ],
   "source": [
    "[(int(x['vtime']), get_closest(next(y for y in x['vehicles'] if y['vid']=='6653'),route_list[1]['stops'])['name']) for x in route_list[1]['routeStates']]"
   ]
  },
  {
   "cell_type": "markdown",
   "metadata": {},
   "source": [
    "We can also compute the closest bus to a given stop."
   ]
  },
  {
   "cell_type": "code",
   "execution_count": 77,
   "metadata": {},
   "outputs": [
    {
     "data": {
      "text/plain": [
       "['7227', '7227', '7227', '7202']"
      ]
     },
     "execution_count": 77,
     "metadata": {},
     "output_type": "execute_result"
    }
   ],
   "source": [
    "[get_closest(stops_14[7], x['vehicles'])['vid'] for x in route_list[0]['routeStates']]"
   ]
  },
  {
   "cell_type": "markdown",
   "metadata": {},
   "source": [
    "And distance to closest bus / stop in miles."
   ]
  },
  {
   "cell_type": "code",
   "execution_count": 96,
   "metadata": {},
   "outputs": [
    {
     "data": {
      "text/plain": [
       "(0.01752807999944537, 'Mission St & Francis St')"
      ]
     },
     "execution_count": 96,
     "metadata": {},
     "output_type": "execute_result"
    }
   ],
   "source": [
    "(lambda x: (get_dist(x,bus_1,**scale_miles),x['name']))(get_closest(bus_1,stops_14))"
   ]
  },
  {
   "cell_type": "code",
   "execution_count": 105,
   "metadata": {},
   "outputs": [
    {
     "data": {
      "text/plain": [
       "(0.4950115000003563, '7202')"
      ]
     },
     "execution_count": 105,
     "metadata": {},
     "output_type": "execute_result"
    }
   ],
   "source": [
    "(lambda x: (get_dist(x,stops_14[7],**scale_miles),x['vid']))(get_closest(stops_14[7],route_list[0]['routeStates'][3]['vehicles']))"
   ]
  }
 ],
 "metadata": {
  "kernelspec": {
   "display_name": "Python [conda env:PythonData]",
   "language": "python",
   "name": "conda-env-PythonData-py"
  },
  "language_info": {
   "codemirror_mode": {
    "name": "ipython",
    "version": 3
   },
   "file_extension": ".py",
   "mimetype": "text/x-python",
   "name": "python",
   "nbconvert_exporter": "python",
   "pygments_lexer": "ipython3",
   "version": "3.6.3"
  }
 },
 "nbformat": 4,
 "nbformat_minor": 2
}
