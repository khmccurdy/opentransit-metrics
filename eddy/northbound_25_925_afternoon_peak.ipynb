{
 "cells": [
  {
   "cell_type": "code",
   "execution_count": 13,
   "metadata": {},
   "outputs": [],
   "source": [
    "import json\n",
    "import pandas as pd\n",
    "import plotly.plotly as py\n",
    "import plotly.graph_objs as go"
   ]
  },
  {
   "cell_type": "code",
   "execution_count": 19,
   "metadata": {},
   "outputs": [],
   "source": [
    "with open('ttc_nov_6_afternoon_peak_25_925.json') as ttc_file:    \n",
    "    ttc_data = json.load(ttc_file)"
   ]
  },
  {
   "cell_type": "code",
   "execution_count": null,
   "metadata": {},
   "outputs": [],
   "source": [
    "# Make a list of trips where a trip is a continuous sequence of vehicle states\n",
    "# If a vehicle wasn't in the previous state, we start a trip\n",
    "def make_trips(trynState) {\n",
    "    for route in trynState.routes:\n",
    "        rid = route['rid'];\n",
    "        complete_route_trips = [] # \n",
    "        ongoing_route_trips = {} # key: vid, val: [{vtime, lat, lon, heading}]\n",
    "        states = route['routeStates']\n",
    "        # ordering not guaranteed by API - ensure sorting by vtime\n",
    "        states.sort(key=lambda state: state['vtime'])\n",
    "        for state in states:\n",
    "            vehicles = state['vehicles']\n",
    "            # iterate through each trip\n",
    "            for trip in route_trips:\n",
    "    \n",
    "            \n",
    "            \n",
    "            \n",
    "}"
   ]
  }
 ],
 "metadata": {
  "kernelspec": {
   "display_name": "Python 3",
   "language": "python",
   "name": "python3"
  },
  "language_info": {
   "codemirror_mode": {
    "name": "ipython",
    "version": 3
   },
   "file_extension": ".py",
   "mimetype": "text/x-python",
   "name": "python",
   "nbconvert_exporter": "python",
   "pygments_lexer": "ipython3",
   "version": "3.6.4"
  }
 },
 "nbformat": 4,
 "nbformat_minor": 2
}
